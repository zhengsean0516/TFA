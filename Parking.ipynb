import pandas as pd
import numpy as np
data = "311_Service_Requests_2020.csv"
df = pd.read_csv(data)
N1=pd.Series(df['Complaint Type']).value_counts()['Illegal Parking']
N11=df['Complaint Type'].count()
Global_ratio=N1/N11
N2=pd.Series(df[df['Incident Zip']==10025]['Complaint Type']).value_counts()['Illegal Parking']
N22=df[df['Incident Zip']==10025]['Complaint Type'].count()
Local_ratio=N2/N22
higher_parking_proportion=Local_ratio>Global_ratio
higher_parking_proportion