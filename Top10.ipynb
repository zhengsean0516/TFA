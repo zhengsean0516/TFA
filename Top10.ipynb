import pandas as pd
import numpy as np
data = "311_Service_Requests_2020.csv"
df = pd.read_csv(data)
top10=pd.Series(df[df['Incident Zip']==10025]['Complaint Type']).value_counts().head(10)
top10